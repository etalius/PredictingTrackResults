{
 "cells": [
  {
   "cell_type": "markdown",
   "metadata": {},
   "source": [
    "## Scrape Athlete List\n",
    "\n",
    "This file pulls lists of athletes and their schools from www.athletic.net for a particular event.\n",
    "\n",
    "Another ipynb file will be used to take this list of athletes and pull their detailed information for each event.\n"
   ]
  },
  {
   "cell_type": "code",
   "execution_count": 1,
   "metadata": {},
   "outputs": [],
   "source": [
    "import requests\n",
    "import pandas as pd\n",
    "import numpy as np\n",
    "from bs4 import BeautifulSoup\n",
    "from selenium import webdriver\n",
    "from selenium.webdriver.common.keys import Keys\n",
    "import time\n",
    "from time import sleep"
   ]
  },
  {
   "cell_type": "code",
   "execution_count": 2,
   "metadata": {},
   "outputs": [],
   "source": [
    "# Select the Event\n",
    "# will be used to determine the url to scrape\n",
    "\n",
    "#Event = \"&Event=21\" #girl 400\n",
    "#Event_file = 'girl400'\n",
    "#Event = \"&Event=3\"   #boy 400\n",
    "#Event_file = 'boy400'\n",
    "\n",
    "#Event = \"&Event=53\" #girl 1600\n",
    "#Event_file = 'boy1600'\n",
    "Event = \"&Event=52\" #boy 1600\n",
    "Event_file = 'boy1600'\n",
    "\n",
    "#Event = \"&Event=36\"  #girl Triple Jump\n",
    "#Event_file = 'girlTripleJump'\n",
    "\n",
    "Event= \"&Event=19\"\n",
    "Event_file = 'women100'"
   ]
  },
  {
   "cell_type": "code",
   "execution_count": 12,
   "metadata": {},
   "outputs": [],
   "source": [
    "# page number ranges each year to pull data\n",
    "# pulls data from all districts and subdistricts (easier to pull duplicates and remove later)\n",
    "# will be used to determine the url to scrape\n",
    "\n",
    "\n",
    "district_ranges = [(115902, 115936), \n",
    "                   (97851, 97885), \n",
    "                   (89004, 89038), \n",
    "                   (79755, 79789),\n",
    "                   (70553, 70586),\n",
    "                   (59529, 59562),\n",
    "                   (49416, 49448),\n",
    "                   (43150, 43182),\n",
    "                   (32345, 32377), \n",
    "                   (28032, 28064), \n",
    "                   (17269, 17301),\n",
    "                   (12573, 12604),\n",
    "                   (9316, 9347)]\n",
    "                                    "
   ]
  },
  {
   "cell_type": "code",
   "execution_count": 13,
   "metadata": {},
   "outputs": [
    {
     "name": "stdout",
     "output_type": "stream",
     "text": [
      "starting new year\n",
      "starting new year\n",
      "Encountered error invalid literal for int() with base 10: 'd><td class=\"text-nowrap hidden-print' for athlete\n",
      "Gabrielle Thomas\n",
      "starting new year\n",
      "Encountered error invalid literal for int() with base 10: '<td class=\"text-nowrap hidden-print' for athlete\n",
      "Deajah Stevens\n",
      "starting new year\n",
      "starting new year\n",
      "starting new year\n",
      "starting new year\n",
      "starting new year\n",
      "starting new year\n",
      "starting new year\n",
      "starting new year\n",
      "starting new year\n",
      "starting new year\n"
     ]
    }
   ],
   "source": [
    "all_athlete_list = pd.DataFrame()\n",
    "for district_range in district_ranges:\n",
    "    print(\"starting new year\")\n",
    "    for d in range(district_range[0], district_range[1] + 1):\n",
    "        new_list = read_div_year(0,str(d),Event)\n",
    "        all_athlete_list = all_athlete_list.append(new_list)"
   ]
  },
  {
   "cell_type": "code",
   "execution_count": 5,
   "metadata": {},
   "outputs": [],
   "source": [
    "# loop through the HTML pages for each district (and subdistricts) and\n",
    "# pull the athlete names, school, etc.\n",
    "\n",
    "# it's easier to loop districts and subdistricts but this does produce duplicate\n",
    "# data which is removed later\n",
    "\n",
    "def read_div_year(Div,Div_id,Event):\n",
    "    id_key_string =     \"../Athlete.aspx?AID=\"\n",
    "    school_key_string = \"../School.aspx?SchoolID=\"\n",
    "\n",
    "    athlete_list_url=\"https://www.athletic.net/TrackAndField/Division/Event.aspx?DivID=\"+Div_id+Event+'&type=1&filter=24'\n",
    "\n",
    "    response = requests.get(athlete_list_url)\n",
    "    page = response.text\n",
    "    soup = BeautifulSoup(page,\"lxml\")\n",
    "    \n",
    "    cols = ['ID','Name','School_ID','School','Division']\n",
    "    athlete_list = pd.DataFrame(columns=cols)\n",
    "\n",
    "    tables=soup.find_all(\"table\")\n",
    "     \n",
    "    for i in tables:\n",
    "        for row in i:\n",
    "            try:\n",
    "                str_row = str(row)\n",
    "                id_index = str_row.find(id_key_string)\n",
    "                if id_index != -1:\n",
    "                    # extract the athlete ID\n",
    "                    str_row = str_row[id_index+20:]            \n",
    "                    id_str = str_row[0:8]\n",
    "                    id_str = id_str.replace('\\\"',\"\")\n",
    "                    id_str = id_str.replace('>','')\n",
    "                    #ID = int(id_str)\n",
    "                    # extract the athlete Name\n",
    "                    name_index = str_row.find(\">\") + 1\n",
    "                    str_row = str_row[name_index:]\n",
    "                    name_index = str_row.find(\"<\")\n",
    "                    Name = str_row[0:name_index] # save this data\n",
    "                    # extract the athlete school\n",
    "                    school_index = str_row.find(school_key_string)\n",
    "                    str_row = str_row[school_index+24:]\n",
    "                    school_index = str_row.find('\\\">')\n",
    "                    school_id = int(str_row[0:school_index]) # save this data\n",
    "                    str_row = str_row[school_index+2:]\n",
    "                    school_index = str_row.find(\"<\")\n",
    "                    school_name = str_row[0:school_index] #save this data\n",
    "                    if id_str.isdigit():\n",
    "                        ID = int(id_str)\n",
    "                        athlete_list = athlete_list.append({'ID': ID, 'Name': Name, 'School_ID': school_id, 'School': school_name, 'Division': Div}, ignore_index=True)\n",
    "            except ValueError as ve:\n",
    "                print(f'Encountered error {ve} for athlete')\n",
    "                print(Name)\n",
    "    athlete_list = athlete_list.set_index(['ID'])\n",
    "    return athlete_list\n"
   ]
  },
  {
   "cell_type": "code",
   "execution_count": 14,
   "metadata": {},
   "outputs": [
    {
     "data": {
      "text/html": [
       "<div>\n",
       "<style scoped>\n",
       "    .dataframe tbody tr th:only-of-type {\n",
       "        vertical-align: middle;\n",
       "    }\n",
       "\n",
       "    .dataframe tbody tr th {\n",
       "        vertical-align: top;\n",
       "    }\n",
       "\n",
       "    .dataframe thead th {\n",
       "        text-align: right;\n",
       "    }\n",
       "</style>\n",
       "<table border=\"1\" class=\"dataframe\">\n",
       "  <thead>\n",
       "    <tr style=\"text-align: right;\">\n",
       "      <th></th>\n",
       "      <th>Name</th>\n",
       "      <th>School_ID</th>\n",
       "      <th>School</th>\n",
       "      <th>Division</th>\n",
       "    </tr>\n",
       "    <tr>\n",
       "      <th>ID</th>\n",
       "      <th></th>\n",
       "      <th></th>\n",
       "      <th></th>\n",
       "      <th></th>\n",
       "    </tr>\n",
       "  </thead>\n",
       "  <tbody>\n",
       "    <tr>\n",
       "      <th>14390842</th>\n",
       "      <td>Chidinma Matthew</td>\n",
       "      <td>20591</td>\n",
       "      <td>Albany</td>\n",
       "      <td>0</td>\n",
       "    </tr>\n",
       "    <tr>\n",
       "      <th>12617904</th>\n",
       "      <td>Mariam Magassouba</td>\n",
       "      <td>20591</td>\n",
       "      <td>Albany</td>\n",
       "      <td>0</td>\n",
       "    </tr>\n",
       "    <tr>\n",
       "      <th>12539618</th>\n",
       "      <td>Marion Osei-Boateng</td>\n",
       "      <td>20591</td>\n",
       "      <td>Albany</td>\n",
       "      <td>0</td>\n",
       "    </tr>\n",
       "    <tr>\n",
       "      <th>16197839</th>\n",
       "      <td>Casey Pedone</td>\n",
       "      <td>21430</td>\n",
       "      <td>Stony Brook</td>\n",
       "      <td>0</td>\n",
       "    </tr>\n",
       "    <tr>\n",
       "      <th>12540844</th>\n",
       "      <td>Njaure Ewa</td>\n",
       "      <td>20661</td>\n",
       "      <td>Binghamton</td>\n",
       "      <td>0</td>\n",
       "    </tr>\n",
       "  </tbody>\n",
       "</table>\n",
       "</div>"
      ],
      "text/plain": [
       "                         Name School_ID       School Division\n",
       "ID                                                           \n",
       "14390842     Chidinma Matthew     20591       Albany        0\n",
       "12617904    Mariam Magassouba     20591       Albany        0\n",
       "12539618  Marion Osei-Boateng     20591       Albany        0\n",
       "16197839         Casey Pedone     21430  Stony Brook        0\n",
       "12540844           Njaure Ewa     20661   Binghamton        0"
      ]
     },
     "execution_count": 14,
     "metadata": {},
     "output_type": "execute_result"
    }
   ],
   "source": [
    "all_athlete_list.head()"
   ]
  },
  {
   "cell_type": "code",
   "execution_count": 15,
   "metadata": {},
   "outputs": [
    {
     "data": {
      "text/plain": [
       "(2526, 4)"
      ]
     },
     "execution_count": 15,
     "metadata": {},
     "output_type": "execute_result"
    }
   ],
   "source": [
    "all_athlete_list.shape"
   ]
  },
  {
   "cell_type": "code",
   "execution_count": 16,
   "metadata": {},
   "outputs": [],
   "source": [
    "# write to file\n",
    "all_athlete_list.to_csv('../athlete_list_'+Event_file+'.csv')"
   ]
  },
  {
   "cell_type": "code",
   "execution_count": null,
   "metadata": {},
   "outputs": [],
   "source": []
  }
 ],
 "metadata": {
  "kernelspec": {
   "display_name": "Python 3",
   "language": "python",
   "name": "python3"
  },
  "language_info": {
   "codemirror_mode": {
    "name": "ipython",
    "version": 3
   },
   "file_extension": ".py",
   "mimetype": "text/x-python",
   "name": "python",
   "nbconvert_exporter": "python",
   "pygments_lexer": "ipython3",
   "version": "3.7.9"
  }
 },
 "nbformat": 4,
 "nbformat_minor": 2
}

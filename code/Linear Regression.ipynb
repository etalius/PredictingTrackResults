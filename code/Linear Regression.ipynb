{
 "cells": [
  {
   "cell_type": "code",
   "execution_count": 3,
   "metadata": {},
   "outputs": [],
   "source": [
    "import pandas as pd\n",
    "import numpy as np\n",
    "from math import sqrt\n",
    "\n",
    "import seaborn as sns\n",
    "import matplotlib.pyplot as plt\n",
    "from scipy.stats import kurtosis, skew\n",
    "\n",
    "from sklearn.linear_model    import LinearRegression\n",
    "from sklearn.model_selection import train_test_split\n",
    "from sklearn.linear_model    import RidgeCV\n",
    "from sklearn.pipeline        import make_pipeline\n",
    "from sklearn.preprocessing   import PolynomialFeatures\n",
    "from sklearn.model_selection import KFold\n",
    "from sklearn.preprocessing   import StandardScaler\n",
    "from sklearn.metrics         import mean_squared_error\n",
    "from sklearn.linear_model    import Lasso\n",
    "from sklearn                 import linear_model"
   ]
  },
  {
   "cell_type": "code",
   "execution_count": 10,
   "metadata": {},
   "outputs": [],
   "source": [
    "women100 = pd.read_csv(\"100_Women_Results.csv\")\n",
    "y = women100['Sr_PR']\n",
    "X = women100\n",
    "del X['Sr_PR']\n",
    "del X['ID']\n",
    "del X['Name']\n",
    "del X['School_ID']\n",
    "del X['School']\n",
    "del X['Division']\n",
    "del X['Grad_Yr']\n",
    "del X['Unnamed: 0']"
   ]
  },
  {
   "cell_type": "code",
   "execution_count": 5,
   "metadata": {},
   "outputs": [
    {
     "data": {
      "text/plain": [
       "0    11.81\n",
       "1    12.02\n",
       "2    12.17\n",
       "3    12.58\n",
       "4    11.28\n",
       "Name: Sr_PR, dtype: float64"
      ]
     },
     "execution_count": 5,
     "metadata": {},
     "output_type": "execute_result"
    }
   ],
   "source": [
    "y.head()"
   ]
  },
  {
   "cell_type": "code",
   "execution_count": 11,
   "metadata": {},
   "outputs": [
    {
     "data": {
      "text/html": [
       "<div>\n",
       "<style scoped>\n",
       "    .dataframe tbody tr th:only-of-type {\n",
       "        vertical-align: middle;\n",
       "    }\n",
       "\n",
       "    .dataframe tbody tr th {\n",
       "        vertical-align: top;\n",
       "    }\n",
       "\n",
       "    .dataframe thead th {\n",
       "        text-align: right;\n",
       "    }\n",
       "</style>\n",
       "<table border=\"1\" class=\"dataframe\">\n",
       "  <thead>\n",
       "    <tr style=\"text-align: right;\">\n",
       "      <th></th>\n",
       "      <th>Fr_PR</th>\n",
       "      <th>So_PR</th>\n",
       "      <th>Jr_PR</th>\n",
       "    </tr>\n",
       "  </thead>\n",
       "  <tbody>\n",
       "    <tr>\n",
       "      <th>0</th>\n",
       "      <td>11.78</td>\n",
       "      <td>11.81</td>\n",
       "      <td>11.78</td>\n",
       "    </tr>\n",
       "    <tr>\n",
       "      <th>1</th>\n",
       "      <td>11.34</td>\n",
       "      <td>11.42</td>\n",
       "      <td>11.30</td>\n",
       "    </tr>\n",
       "    <tr>\n",
       "      <th>2</th>\n",
       "      <td>11.74</td>\n",
       "      <td>11.72</td>\n",
       "      <td>11.58</td>\n",
       "    </tr>\n",
       "    <tr>\n",
       "      <th>3</th>\n",
       "      <td>12.34</td>\n",
       "      <td>12.76</td>\n",
       "      <td>12.43</td>\n",
       "    </tr>\n",
       "    <tr>\n",
       "      <th>4</th>\n",
       "      <td>11.29</td>\n",
       "      <td>11.22</td>\n",
       "      <td>11.27</td>\n",
       "    </tr>\n",
       "  </tbody>\n",
       "</table>\n",
       "</div>"
      ],
      "text/plain": [
       "   Fr_PR  So_PR  Jr_PR\n",
       "0  11.78  11.81  11.78\n",
       "1  11.34  11.42  11.30\n",
       "2  11.74  11.72  11.58\n",
       "3  12.34  12.76  12.43\n",
       "4  11.29  11.22  11.27"
      ]
     },
     "execution_count": 11,
     "metadata": {},
     "output_type": "execute_result"
    }
   ],
   "source": [
    "X.head()"
   ]
  },
  {
   "cell_type": "code",
   "execution_count": 13,
   "metadata": {},
   "outputs": [],
   "source": [
    "X_train,X_test, y_train, y_test = train_test_split(X, y, test_size=0.15)"
   ]
  },
  {
   "cell_type": "code",
   "execution_count": 14,
   "metadata": {},
   "outputs": [
    {
     "data": {
      "text/plain": [
       "0.7931694555421639"
      ]
     },
     "execution_count": 14,
     "metadata": {},
     "output_type": "execute_result"
    }
   ],
   "source": [
    "# Create an empty model\n",
    "lr = LinearRegression()\n",
    "\n",
    "# Fit the model to the full dataset\n",
    "lr.fit(X_train, y_train)\n",
    "\n",
    "# Print out the R^2 for the model against the full dataset\n",
    "lr.score(X_train,y_train)"
   ]
  },
  {
   "cell_type": "code",
   "execution_count": 15,
   "metadata": {},
   "outputs": [],
   "source": [
    "y_pred = lr.predict(X_test)"
   ]
  },
  {
   "cell_type": "code",
   "execution_count": 16,
   "metadata": {},
   "outputs": [
    {
     "data": {
      "text/plain": [
       "[<matplotlib.lines.Line2D at 0x7fe9d3e7ff10>]"
      ]
     },
     "execution_count": 16,
     "metadata": {},
     "output_type": "execute_result"
    },
    {
     "data": {
      "image/png": "[encoded data removed]",
      "text/plain": [
       "<Figure size 432x288 with 1 Axes>"
      ]
     },
     "metadata": {
      "needs_background": "light"
     },
     "output_type": "display_data"
    }
   ],
   "source": [
    "plt.scatter(y_pred,y_test,alpha=0.5);\n",
    "plt.ylabel('y_test (seconds)');\n",
    "plt.xlabel('y_predicted (seconds)');\n",
    "\n",
    "plt.plot([max(y_pred),min(y_pred)],[max(y_pred),min(y_pred)],color='r')\n",
    "#plt.plot([240,470],[240,470],color='r')\n",
    "\n",
    "#plt.savefig('test_vs_pred.png');"
   ]
  },
  {
   "cell_type": "code",
   "execution_count": 17,
   "metadata": {},
   "outputs": [
    {
     "name": "stdout",
     "output_type": "stream",
     "text": [
      "Using all data (9th, 10th & 11th grades) to predict 12th grade PR\n",
      "Train R^2:  0.7931694555421639\n",
      "Train RMSE: 0.23370211670524965\n",
      "Test R^2:  0.7407713018037778\n",
      "Test RMSE: 0.25679771093272735\n",
      "Skew: 0.5519249155438655\n",
      "mean :  0.05243584505118523\n",
      "var  :  0.0631955464940567\n",
      "skew :  0.5519249155438655\n",
      "kurt :  0.2724065304751142\n"
     ]
    }
   ],
   "source": [
    "print('Using all data (9th, 10th & 11th grades) to predict 12th grade PR')\n",
    "print('Train R^2: ',lr.score(X_train, y_train))\n",
    "print('Train RMSE:', \n",
    "      sqrt(mean_squared_error(y_train, lr.predict(X_train))))\n",
    "print('Test R^2: ', lr.score(X_test, y_test))\n",
    "print('Test RMSE:', \n",
    "        sqrt(mean_squared_error(y_test, lr.predict(X_test))))\n",
    "\n",
    "data = y_test-lr.predict(X_test)\n",
    "print('Skew:',skew(data))\n",
    "print(\"mean : \", np.mean(data))\n",
    "print(\"var  : \", np.var(data))\n",
    "print(\"skew : \",skew(data))\n",
    "print(\"kurt : \",kurtosis(data))"
   ]
  },
  {
   "cell_type": "code",
   "execution_count": 19,
   "metadata": {},
   "outputs": [],
   "source": [
    "Men100 = pd.read_csv(\"100_Men_Results.csv\")\n",
    "y = Men100['Sr_PR']\n",
    "X = Men100\n",
    "del X['Sr_PR']\n",
    "del X['ID']\n",
    "del X['Name']\n",
    "del X['School_ID']\n",
    "del X['School']\n",
    "del X['Division']\n",
    "del X['Grad_Yr']\n",
    "del X['Unnamed: 0']"
   ]
  },
  {
   "cell_type": "code",
   "execution_count": 20,
   "metadata": {},
   "outputs": [
    {
     "name": "stdout",
     "output_type": "stream",
     "text": [
      "Using all data (9th, 10th & 11th grades) to predict 12th grade PR\n",
      "Train R^2:  0.6843146056575115\n",
      "Train RMSE: 0.234916244546457\n",
      "Test R^2:  0.7862406032349978\n",
      "Test RMSE: 0.19826642314045104\n",
      "Skew: 0.33766524380452967\n",
      "mean :  -0.0352396163122472\n",
      "var  :  0.038067743987073986\n",
      "skew :  0.33766524380452967\n",
      "kurt :  0.3467381736258064\n"
     ]
    },
    {
     "data": {
      "image/png": "[encoded data removed]",
      "text/plain": [
       "<Figure size 432x288 with 1 Axes>"
      ]
     },
     "metadata": {
      "needs_background": "light"
     },
     "output_type": "display_data"
    }
   ],
   "source": [
    "X_train,X_test, y_train, y_test = train_test_split(X, y, test_size=0.15)\n",
    "\n",
    "y_pred = lr.predict(X_test)\n",
    "\n",
    "plt.scatter(y_pred,y_test,alpha=0.5);\n",
    "plt.ylabel('y_test (seconds)');\n",
    "plt.xlabel('y_predicted (seconds)');\n",
    "\n",
    "plt.plot([max(y_pred),min(y_pred)],[max(y_pred),min(y_pred)],color='r')\n",
    "#plt.plot([240,470],[240,470],color='r')\n",
    "\n",
    "#plt.savefig('test_vs_pred.png');\n",
    "\n",
    "print('Using all data (9th, 10th & 11th grades) to predict 12th grade PR')\n",
    "print('Train R^2: ',lr.score(X_train, y_train))\n",
    "print('Train RMSE:', \n",
    "      sqrt(mean_squared_error(y_train, lr.predict(X_train))))\n",
    "print('Test R^2: ', lr.score(X_test, y_test))\n",
    "print('Test RMSE:', \n",
    "        sqrt(mean_squared_error(y_test, lr.predict(X_test))))\n",
    "\n",
    "data = y_test-lr.predict(X_test)\n",
    "print('Skew:',skew(data))\n",
    "print(\"mean : \", np.mean(data))\n",
    "print(\"var  : \", np.var(data))\n",
    "print(\"skew : \",skew(data))\n",
    "print(\"kurt : \",kurtosis(data))"
   ]
  },
  {
   "cell_type": "code",
   "execution_count": 21,
   "metadata": {},
   "outputs": [],
   "source": [
    "Women5000 = pd.read_csv(\"5000_Women_Results.csv\")\n",
    "y = Women5000['Sr_PR']\n",
    "X = Women5000\n",
    "del X['Sr_PR']\n",
    "del X['ID']\n",
    "del X['Name']\n",
    "del X['School_ID']\n",
    "del X['School']\n",
    "del X['Division']\n",
    "del X['Grad_Yr']\n",
    "del X['Unnamed: 0']"
   ]
  },
  {
   "cell_type": "code",
   "execution_count": 22,
   "metadata": {},
   "outputs": [
    {
     "name": "stdout",
     "output_type": "stream",
     "text": [
      "Using all data (9th, 10th & 11th grades) to predict 12th grade PR\n",
      "Train R^2:  -0.12570281702673958\n",
      "Train RMSE: 189.67738935347649\n",
      "Test R^2:  -1.6219430423672883\n",
      "Test RMSE: 97.76994542112475\n",
      "Skew: -4.695907810418419\n",
      "mean :  1.2360674107870093\n",
      "var  :  9557.4343650057\n",
      "skew :  -4.695907810418419\n",
      "kurt :  24.503974083945604\n"
     ]
    },
    {
     "data": {
      "image/png": "[encoded data removed]",
      "text/plain": [
       "<Figure size 432x288 with 1 Axes>"
      ]
     },
     "metadata": {
      "needs_background": "light"
     },
     "output_type": "display_data"
    }
   ],
   "source": [
    "X_train,X_test, y_train, y_test = train_test_split(X, y, test_size=0.15)\n",
    "\n",
    "y_pred = lr.predict(X_test)\n",
    "\n",
    "plt.scatter(y_pred,y_test,alpha=0.5);\n",
    "plt.ylabel('y_test (seconds)');\n",
    "plt.xlabel('y_predicted (seconds)');\n",
    "\n",
    "plt.plot([max(y_pred),min(y_pred)],[max(y_pred),min(y_pred)],color='r')\n",
    "#plt.plot([240,470],[240,470],color='r')\n",
    "\n",
    "#plt.savefig('test_vs_pred.png');\n",
    "\n",
    "print('Using all data (9th, 10th & 11th grades) to predict 12th grade PR')\n",
    "print('Train R^2: ',lr.score(X_train, y_train))\n",
    "print('Train RMSE:', \n",
    "      sqrt(mean_squared_error(y_train, lr.predict(X_train))))\n",
    "print('Test R^2: ', lr.score(X_test, y_test))\n",
    "print('Test RMSE:', \n",
    "        sqrt(mean_squared_error(y_test, lr.predict(X_test))))\n",
    "\n",
    "data = y_test-lr.predict(X_test)\n",
    "print('Skew:',skew(data))\n",
    "print(\"mean : \", np.mean(data))\n",
    "print(\"var  : \", np.var(data))\n",
    "print(\"skew : \",skew(data))\n",
    "print(\"kurt : \",kurtosis(data))"
   ]
  },
  {
   "cell_type": "code",
   "execution_count": null,
   "metadata": {},
   "outputs": [],
   "source": []
  }
 ],
 "metadata": {
  "kernelspec": {
   "display_name": "Python 3",
   "language": "python",
   "name": "python3"
  },
  "language_info": {
   "codemirror_mode": {
    "name": "ipython",
    "version": 3
   },
   "file_extension": ".py",
   "mimetype": "text/x-python",
   "name": "python",
   "nbconvert_exporter": "python",
   "pygments_lexer": "ipython3",
   "version": "3.7.9"
  }
 },
 "nbformat": 4,
 "nbformat_minor": 4
}

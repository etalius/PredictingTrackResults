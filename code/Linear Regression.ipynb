{
 "cells": [
  {
   "cell_type": "code",
   "execution_count": 1,
   "metadata": {},
   "outputs": [],
   "source": [
    "import pandas as pd\n",
    "import numpy as np\n",
    "from math import sqrt\n",
    "\n",
    "import seaborn as sns\n",
    "import matplotlib.pyplot as plt\n",
    "from scipy.stats import kurtosis, skew\n",
    "\n",
    "from sklearn.linear_model    import LinearRegression\n",
    "from sklearn.model_selection import train_test_split\n",
    "from sklearn.linear_model    import RidgeCV\n",
    "from sklearn.pipeline        import make_pipeline\n",
    "from sklearn.preprocessing   import PolynomialFeatures\n",
    "from sklearn.model_selection import KFold\n",
    "from sklearn.preprocessing   import StandardScaler\n",
    "from sklearn.metrics         import mean_squared_error\n",
    "from sklearn.linear_model    import Lasso\n",
    "from sklearn                 import linear_model"
   ]
  },
  {
   "cell_type": "code",
   "execution_count": 56,
   "metadata": {},
   "outputs": [],
   "source": [
    "women100 = pd.read_csv(\"100_Women_Results.csv\")\n",
    "y = women100['Sr_PR']\n",
    "X = women100\n",
    "del X['Sr_PR']\n",
    "del X['ID']\n",
    "del X['Name']\n",
    "del X['School_ID']\n",
    "del X['School']\n",
    "del X['Division']\n",
    "del X['Grad_Yr']\n",
    "del X['Unnamed: 0']\n",
    "\n",
    "X_train,X_test, y_train, y_test = train_test_split(X, y, test_size=0.15)"
   ]
  },
  {
   "cell_type": "code",
   "execution_count": 48,
   "metadata": {},
   "outputs": [
    {
     "name": "stdout",
     "output_type": "stream",
     "text": [
      "Using squared terms as well to predict 12th grade PR\n",
      "Train R^2:  0.7759678170546922\n",
      "Train RMSE: 0.23932482657548687\n",
      "Test R^2:  0.8303577007649015\n",
      "Test RMSE: 0.22603488686065284\n"
     ]
    }
   ],
   "source": [
    "# add a PR11**2 and PR10**2 term to linear regression\n",
    "X3_train = X_train.copy()\n",
    "X3_train['PR11squared'] = X_train['Jr_PR']**2\n",
    "X3_train['PR10squared'] = X_train['So_PR']**2\n",
    "X3_train['PR9squared'] = X_train['Fr_PR']**2\n",
    "\n",
    "X3_test = X_test.copy()\n",
    "X3_test['PR11squared'] = X_test['Jr_PR']**2\n",
    "X3_test['PR10squared'] = X_test['So_PR']**2\n",
    "X3_test['PR9squared'] = X_test['Fr_PR']**2\n",
    "\n",
    "\n",
    "# Create an empty model\n",
    "lr = LinearRegression()\n",
    "\n",
    "lr.fit(X3_train,y_train)\n",
    "\n",
    "print('Using squared terms as well to predict 12th grade PR')\n",
    "print('Train R^2: ',lr.score(X3_train, y_train))\n",
    "print('Train RMSE:', \n",
    "      sqrt(mean_squared_error(y_train, lr.predict(X3_train))))\n",
    "print('Test R^2: ', lr.score(X3_test, y_test))\n",
    "print('Test RMSE:', \n",
    "      sqrt(mean_squared_error(y_test, lr.predict(X3_test))))"
   ]
  },
  {
   "cell_type": "code",
   "execution_count": 3,
   "metadata": {},
   "outputs": [
    {
     "data": {
      "text/plain": [
       "0    11.81\n",
       "1    12.02\n",
       "2    12.17\n",
       "3    12.58\n",
       "4    11.28\n",
       "Name: Sr_PR, dtype: float64"
      ]
     },
     "execution_count": 3,
     "metadata": {},
     "output_type": "execute_result"
    }
   ],
   "source": [
    "y.head()"
   ]
  },
  {
   "cell_type": "code",
   "execution_count": 4,
   "metadata": {},
   "outputs": [
    {
     "data": {
      "text/html": [
       "<div>\n",
       "<style scoped>\n",
       "    .dataframe tbody tr th:only-of-type {\n",
       "        vertical-align: middle;\n",
       "    }\n",
       "\n",
       "    .dataframe tbody tr th {\n",
       "        vertical-align: top;\n",
       "    }\n",
       "\n",
       "    .dataframe thead th {\n",
       "        text-align: right;\n",
       "    }\n",
       "</style>\n",
       "<table border=\"1\" class=\"dataframe\">\n",
       "  <thead>\n",
       "    <tr style=\"text-align: right;\">\n",
       "      <th></th>\n",
       "      <th>Fr_PR</th>\n",
       "      <th>So_PR</th>\n",
       "      <th>Jr_PR</th>\n",
       "    </tr>\n",
       "  </thead>\n",
       "  <tbody>\n",
       "    <tr>\n",
       "      <th>0</th>\n",
       "      <td>11.78</td>\n",
       "      <td>11.81</td>\n",
       "      <td>11.78</td>\n",
       "    </tr>\n",
       "    <tr>\n",
       "      <th>1</th>\n",
       "      <td>11.34</td>\n",
       "      <td>11.42</td>\n",
       "      <td>11.30</td>\n",
       "    </tr>\n",
       "    <tr>\n",
       "      <th>2</th>\n",
       "      <td>11.74</td>\n",
       "      <td>11.72</td>\n",
       "      <td>11.58</td>\n",
       "    </tr>\n",
       "    <tr>\n",
       "      <th>3</th>\n",
       "      <td>12.34</td>\n",
       "      <td>12.76</td>\n",
       "      <td>12.43</td>\n",
       "    </tr>\n",
       "    <tr>\n",
       "      <th>4</th>\n",
       "      <td>11.29</td>\n",
       "      <td>11.22</td>\n",
       "      <td>11.27</td>\n",
       "    </tr>\n",
       "  </tbody>\n",
       "</table>\n",
       "</div>"
      ],
      "text/plain": [
       "   Fr_PR  So_PR  Jr_PR\n",
       "0  11.78  11.81  11.78\n",
       "1  11.34  11.42  11.30\n",
       "2  11.74  11.72  11.58\n",
       "3  12.34  12.76  12.43\n",
       "4  11.29  11.22  11.27"
      ]
     },
     "execution_count": 4,
     "metadata": {},
     "output_type": "execute_result"
    }
   ],
   "source": [
    "X.head()"
   ]
  },
  {
   "cell_type": "code",
   "execution_count": 50,
   "metadata": {},
   "outputs": [],
   "source": [
    "X_train,X_test, y_train, y_test = train_test_split(X, y, test_size=0.15)"
   ]
  },
  {
   "cell_type": "code",
   "execution_count": 51,
   "metadata": {},
   "outputs": [
    {
     "data": {
      "text/plain": [
       "0.7908751110452594"
      ]
     },
     "execution_count": 51,
     "metadata": {},
     "output_type": "execute_result"
    }
   ],
   "source": [
    "# Create an empty model\n",
    "lr = LinearRegression()\n",
    "\n",
    "# Fit the model to the full dataset\n",
    "lr.fit(X_train, y_train)\n",
    "\n",
    "# Print out the R^2 for the model against the full dataset\n",
    "lr.score(X_train,y_train)"
   ]
  },
  {
   "cell_type": "code",
   "execution_count": 52,
   "metadata": {},
   "outputs": [],
   "source": [
    "y_pred = lr.predict(X_test)"
   ]
  },
  {
   "cell_type": "code",
   "execution_count": 53,
   "metadata": {},
   "outputs": [
    {
     "data": {
      "text/plain": [
       "[<matplotlib.lines.Line2D at 0x7ffa99b10850>]"
      ]
     },
     "execution_count": 53,
     "metadata": {},
     "output_type": "execute_result"
    },
    {
     "data": {
      "image/png": "[encoded data removed]",
      "text/plain": [
       "<Figure size 432x288 with 1 Axes>"
      ]
     },
     "metadata": {
      "needs_background": "light"
     },
     "output_type": "display_data"
    }
   ],
   "source": [
    "plt.scatter(y_pred,y_test,alpha=0.5);\n",
    "plt.ylabel('y_test (seconds)');\n",
    "plt.xlabel('y_predicted (seconds)');\n",
    "\n",
    "plt.plot([max(y_pred),min(y_pred)],[max(y_pred),min(y_pred)],color='r')\n",
    "#plt.plot([240,470],[240,470],color='r')\n",
    "\n",
    "#plt.savefig('test_vs_pred.png');"
   ]
  },
  {
   "cell_type": "code",
   "execution_count": 17,
   "metadata": {},
   "outputs": [
    {
     "name": "stdout",
     "output_type": "stream",
     "text": [
      "Using all data (9th, 10th & 11th grades) to predict 12th grade PR\n",
      "Train R^2:  0.7931694555421639\n",
      "Train RMSE: 0.23370211670524965\n",
      "Test R^2:  0.7407713018037778\n",
      "Test RMSE: 0.25679771093272735\n",
      "Skew: 0.5519249155438655\n",
      "mean :  0.05243584505118523\n",
      "var  :  0.0631955464940567\n",
      "skew :  0.5519249155438655\n",
      "kurt :  0.2724065304751142\n"
     ]
    }
   ],
   "source": [
    "print('Using all data (9th, 10th & 11th grades) to predict 12th grade PR')\n",
    "print('Train R^2: ',lr.score(X_train, y_train))\n",
    "print('Train RMSE:', \n",
    "      sqrt(mean_squared_error(y_train, lr.predict(X_train))))\n",
    "print('Test R^2: ', lr.score(X_test, y_test))\n",
    "print('Test RMSE:', \n",
    "        sqrt(mean_squared_error(y_test, lr.predict(X_test))))\n",
    "\n",
    "data = y_test-lr.predict(X_test)\n",
    "print('Skew:',skew(data))\n",
    "print(\"mean : \", np.mean(data))\n",
    "print(\"var  : \", np.var(data))\n",
    "print(\"skew : \",skew(data))\n",
    "print(\"kurt : \",kurtosis(data))"
   ]
  },
  {
   "cell_type": "code",
   "execution_count": 35,
   "metadata": {},
   "outputs": [
    {
     "data": {
      "text/html": [
       "<div>\n",
       "<style scoped>\n",
       "    .dataframe tbody tr th:only-of-type {\n",
       "        vertical-align: middle;\n",
       "    }\n",
       "\n",
       "    .dataframe tbody tr th {\n",
       "        vertical-align: top;\n",
       "    }\n",
       "\n",
       "    .dataframe thead th {\n",
       "        text-align: right;\n",
       "    }\n",
       "</style>\n",
       "<table border=\"1\" class=\"dataframe\">\n",
       "  <thead>\n",
       "    <tr style=\"text-align: right;\">\n",
       "      <th></th>\n",
       "      <th>Fr_PR</th>\n",
       "    </tr>\n",
       "  </thead>\n",
       "  <tbody>\n",
       "    <tr>\n",
       "      <th>333</th>\n",
       "      <td>11.70</td>\n",
       "    </tr>\n",
       "    <tr>\n",
       "      <th>250</th>\n",
       "      <td>11.58</td>\n",
       "    </tr>\n",
       "    <tr>\n",
       "      <th>196</th>\n",
       "      <td>11.96</td>\n",
       "    </tr>\n",
       "    <tr>\n",
       "      <th>138</th>\n",
       "      <td>11.30</td>\n",
       "    </tr>\n",
       "    <tr>\n",
       "      <th>14</th>\n",
       "      <td>11.77</td>\n",
       "    </tr>\n",
       "  </tbody>\n",
       "</table>\n",
       "</div>"
      ],
      "text/plain": [
       "     Fr_PR\n",
       "333  11.70\n",
       "250  11.58\n",
       "196  11.96\n",
       "138  11.30\n",
       "14   11.77"
      ]
     },
     "execution_count": 35,
     "metadata": {},
     "output_type": "execute_result"
    }
   ],
   "source": [
    "X.head()\n",
    "\n",
    "X_train,X_test, y_train, y_test = train_test_split(X, y, test_size=0.15)\n",
    "\n",
    "X_test.head()"
   ]
  },
  {
   "cell_type": "code",
   "execution_count": 57,
   "metadata": {},
   "outputs": [
    {
     "name": "stdout",
     "output_type": "stream",
     "text": [
      "Using all data (9th, 10th & 11th grades) to predict 12th grade PR\n",
      "Train R^2:  0.5868480494438556\n",
      "Train RMSE: 0.33855646832731934\n",
      "Test R^2:  0.6022892990419447\n",
      "Test RMSE: 0.26671361190786813\n",
      "Skew: 0.28811036663204276\n",
      "mean :  0.05788857780961889\n",
      "var  :  0.0677850633361206\n",
      "skew :  0.28811036663204276\n",
      "kurt :  0.5017940579848115\n"
     ]
    },
    {
     "data": {
      "image/png": "[encoded data removed]",
      "text/plain": [
       "<Figure size 432x288 with 1 Axes>"
      ]
     },
     "metadata": {
      "needs_background": "light"
     },
     "output_type": "display_data"
    }
   ],
   "source": [
    "del X['So_PR']\n",
    "del X['Jr_PR']\n",
    "\n",
    "X_train,X_test, y_train, y_test = train_test_split(X, y, test_size=0.15)\n",
    "\n",
    "# Create an empty model\n",
    "lr = LinearRegression()\n",
    "\n",
    "# Fit the model to the full dataset\n",
    "lr.fit(X_train, y_train)\n",
    "\n",
    "# Print out the R^2 for the model against the full dataset\n",
    "lr.score(X_train,y_train)\n",
    "\n",
    "y_pred = lr.predict(X_test)\n",
    "\n",
    "plt.scatter(y_pred,y_test,alpha=0.5);\n",
    "plt.ylabel('y_test (seconds)');\n",
    "plt.xlabel('y_predicted (seconds)');\n",
    "\n",
    "plt.plot([max(y_pred),min(y_pred)],[max(y_pred),min(y_pred)],color='r')\n",
    "#plt.plot([240,470],[240,470],color='r')\n",
    "\n",
    "#plt.savefig('test_vs_pred.png');\n",
    "\n",
    "print('Using all data (9th, 10th & 11th grades) to predict 12th grade PR')\n",
    "print('Train R^2: ',lr.score(X_train, y_train))\n",
    "print('Train RMSE:', \n",
    "      sqrt(mean_squared_error(y_train, lr.predict(X_train))))\n",
    "print('Test R^2: ', lr.score(X_test, y_test))\n",
    "print('Test RMSE:', \n",
    "        sqrt(mean_squared_error(y_test, lr.predict(X_test))))\n",
    "\n",
    "data = y_test-lr.predict(X_test)\n",
    "print('Skew:',skew(data))\n",
    "print(\"mean : \", np.mean(data))\n",
    "print(\"var  : \", np.var(data))\n",
    "print(\"skew : \",skew(data))\n",
    "print(\"kurt : \",kurtosis(data))\n"
   ]
  },
  {
   "cell_type": "code",
   "execution_count": 7,
   "metadata": {},
   "outputs": [],
   "source": [
    "Men100 = pd.read_csv(\"100_Men_Results.csv\")\n",
    "y = Men100['Sr_PR']\n",
    "X = Men100\n",
    "del X['Sr_PR']\n",
    "del X['ID']\n",
    "del X['Name']\n",
    "del X['School_ID']\n",
    "del X['School']\n",
    "del X['Division']\n",
    "del X['Grad_Yr']\n",
    "del X['Unnamed: 0']"
   ]
  },
  {
   "cell_type": "code",
   "execution_count": 8,
   "metadata": {},
   "outputs": [
    {
     "name": "stdout",
     "output_type": "stream",
     "text": [
      "Using all data (9th, 10th & 11th grades) to predict 12th grade PR\n",
      "Train R^2:  0.7419801034007343\n",
      "Train RMSE: 0.2135689262120713\n",
      "Test R^2:  0.6108606521714488\n",
      "Test RMSE: 0.2616214917112457\n",
      "Skew: -2.424417400981702\n",
      "mean :  -0.005283070713874582\n",
      "var  :  0.06841789408904964\n",
      "skew :  -2.424417400981702\n",
      "kurt :  12.788486708388811\n"
     ]
    },
    {
     "data": {
      "image/png": "[encoded data removed]",
      "text/plain": [
       "<Figure size 432x288 with 1 Axes>"
      ]
     },
     "metadata": {
      "needs_background": "light"
     },
     "output_type": "display_data"
    }
   ],
   "source": [
    "X_train,X_test, y_train, y_test = train_test_split(X, y, test_size=0.15)\n",
    "\n",
    "# Create an empty model\n",
    "lr = LinearRegression()\n",
    "\n",
    "# Fit the model to the full dataset\n",
    "lr.fit(X_train, y_train)\n",
    "\n",
    "# Print out the R^2 for the model against the full dataset\n",
    "lr.score(X_train,y_train)\n",
    "\n",
    "y_pred = lr.predict(X_test)\n",
    "\n",
    "plt.scatter(y_pred,y_test,alpha=0.5);\n",
    "plt.ylabel('y_test (seconds)');\n",
    "plt.xlabel('y_predicted (seconds)');\n",
    "\n",
    "plt.plot([max(y_pred),min(y_pred)],[max(y_pred),min(y_pred)],color='r')\n",
    "#plt.plot([240,470],[240,470],color='r')\n",
    "\n",
    "#plt.savefig('test_vs_pred.png');\n",
    "\n",
    "print('Using all data (9th, 10th & 11th grades) to predict 12th grade PR')\n",
    "print('Train R^2: ',lr.score(X_train, y_train))\n",
    "print('Train RMSE:', \n",
    "      sqrt(mean_squared_error(y_train, lr.predict(X_train))))\n",
    "print('Test R^2: ', lr.score(X_test, y_test))\n",
    "print('Test RMSE:', \n",
    "        sqrt(mean_squared_error(y_test, lr.predict(X_test))))\n",
    "\n",
    "data = y_test-lr.predict(X_test)\n",
    "print('Skew:',skew(data))\n",
    "print(\"mean : \", np.mean(data))\n",
    "print(\"var  : \", np.var(data))\n",
    "print(\"skew : \",skew(data))\n",
    "print(\"kurt : \",kurtosis(data))"
   ]
  },
  {
   "cell_type": "code",
   "execution_count": 13,
   "metadata": {},
   "outputs": [],
   "source": [
    "Women5000 = pd.read_csv(\"5000_Women_Results.csv\")\n",
    "y = Women5000['Sr_PR']\n",
    "X = Women5000\n",
    "del X['Sr_PR']\n",
    "del X['ID']\n",
    "del X['Name']\n",
    "del X['School_ID']\n",
    "del X['School']\n",
    "del X['Division']\n",
    "del X['Grad_Yr']\n",
    "del X['Unnamed: 0']"
   ]
  },
  {
   "cell_type": "code",
   "execution_count": 21,
   "metadata": {},
   "outputs": [
    {
     "name": "stdout",
     "output_type": "stream",
     "text": [
      "Using all data (9th, 10th & 11th grades) to predict 12th grade PR\n",
      "Train R^2:  0.6901142980987565\n",
      "Train RMSE: 25.52890389196401\n",
      "Test R^2:  0.5718544683752177\n",
      "Test RMSE: 29.07109683062551\n",
      "Skew: 0.5656310562828765\n",
      "mean :  3.9539946384540614\n",
      "var  :  829.4945973346814\n",
      "skew :  0.5656310562828765\n",
      "kurt :  0.9758497641084136\n"
     ]
    },
    {
     "data": {
      "image/png": "[encoded data removed]",
      "text/plain": [
       "<Figure size 432x288 with 1 Axes>"
      ]
     },
     "metadata": {
      "needs_background": "light"
     },
     "output_type": "display_data"
    }
   ],
   "source": [
    "X_train,X_test, y_train, y_test = train_test_split(X, y, test_size=0.15)\n",
    "\n",
    "y_pred = lr.predict(X_test)\n",
    "\n",
    "# Create an empty model\n",
    "lr = LinearRegression()\n",
    "\n",
    "# Fit the model to the full dataset\n",
    "lr.fit(X_train, y_train)\n",
    "\n",
    "# Print out the R^2 for the model against the full dataset\n",
    "lr.score(X_train,y_train)\n",
    "\n",
    "plt.scatter(y_pred,y_test,alpha=0.5);\n",
    "plt.ylabel('y_test (seconds)');\n",
    "plt.xlabel('y_predicted (seconds)');\n",
    "\n",
    "plt.plot([max(y_pred),min(y_pred)],[max(y_pred),min(y_pred)],color='r')\n",
    "#plt.plot([240,470],[240,470],color='r')\n",
    "\n",
    "#plt.savefig('test_vs_pred.png');\n",
    "\n",
    "print('Using all data (9th, 10th & 11th grades) to predict 12th grade PR')\n",
    "print('Train R^2: ',lr.score(X_train, y_train))\n",
    "print('Train RMSE:', \n",
    "      sqrt(mean_squared_error(y_train, lr.predict(X_train))))\n",
    "print('Test R^2: ', lr.score(X_test, y_test))\n",
    "print('Test RMSE:', \n",
    "        sqrt(mean_squared_error(y_test, lr.predict(X_test))))\n",
    "\n",
    "data = y_test-lr.predict(X_test)\n",
    "print('Skew:',skew(data))\n",
    "print(\"mean : \", np.mean(data))\n",
    "print(\"var  : \", np.var(data))\n",
    "print(\"skew : \",skew(data))\n",
    "print(\"kurt : \",kurtosis(data))"
   ]
  },
  {
   "cell_type": "code",
   "execution_count": 19,
   "metadata": {},
   "outputs": [],
   "source": [
    "Men5000 = pd.read_csv(\"5000_Men_Results.csv\")\n",
    "y = Men5000['Sr_PR']\n",
    "X = Men5000\n",
    "del X['Sr_PR']\n",
    "del X['ID']\n",
    "del X['Name']\n",
    "del X['School_ID']\n",
    "del X['School']\n",
    "del X['Division']\n",
    "del X['Grad_Yr']\n",
    "del X['Unnamed: 0']"
   ]
  },
  {
   "cell_type": "code",
   "execution_count": 22,
   "metadata": {},
   "outputs": [
    {
     "name": "stdout",
     "output_type": "stream",
     "text": [
      "Using all data (9th, 10th & 11th grades) to predict 12th grade PR\n",
      "Train R^2:  0.6546667836592059\n",
      "Train RMSE: 25.03239938687941\n",
      "Test R^2:  0.6952816204395357\n",
      "Test RMSE: 32.18919954511022\n",
      "Skew: 0.49893981448703456\n",
      "mean :  11.474355005463048\n",
      "var  :  904.4837445635291\n",
      "skew :  0.49893981448703456\n",
      "kurt :  -0.2037089075868086\n"
     ]
    },
    {
     "data": {
      "image/png": "[encoded data removed]",
      "text/plain": [
       "<Figure size 432x288 with 1 Axes>"
      ]
     },
     "metadata": {
      "needs_background": "light"
     },
     "output_type": "display_data"
    }
   ],
   "source": [
    "X_train,X_test, y_train, y_test = train_test_split(X, y, test_size=0.15)\n",
    "\n",
    "# Create an empty model\n",
    "lr = LinearRegression()\n",
    "\n",
    "# Fit the model to the full dataset\n",
    "lr.fit(X_train, y_train)\n",
    "\n",
    "# Print out the R^2 for the model against the full dataset\n",
    "lr.score(X_train,y_train)\n",
    "\n",
    "y_pred = lr.predict(X_test)\n",
    "\n",
    "plt.scatter(y_pred,y_test,alpha=0.5);\n",
    "plt.ylabel('y_test (seconds)');\n",
    "plt.xlabel('y_predicted (seconds)');\n",
    "\n",
    "plt.plot([max(y_pred),min(y_pred)],[max(y_pred),min(y_pred)],color='r')\n",
    "#plt.plot([240,470],[240,470],color='r')\n",
    "\n",
    "#plt.savefig('test_vs_pred.png');\n",
    "\n",
    "print('Using all data (9th, 10th & 11th grades) to predict 12th grade PR')\n",
    "print('Train R^2: ',lr.score(X_train, y_train))\n",
    "print('Train RMSE:', \n",
    "      sqrt(mean_squared_error(y_train, lr.predict(X_train))))\n",
    "print('Test R^2: ', lr.score(X_test, y_test))\n",
    "print('Test RMSE:', \n",
    "        sqrt(mean_squared_error(y_test, lr.predict(X_test))))\n",
    "\n",
    "data = y_test-lr.predict(X_test)\n",
    "print('Skew:',skew(data))\n",
    "print(\"mean : \", np.mean(data))\n",
    "print(\"var  : \", np.var(data))\n",
    "print(\"skew : \",skew(data))\n",
    "print(\"kurt : \",kurtosis(data))"
   ]
  },
  {
   "cell_type": "code",
   "execution_count": 25,
   "metadata": {},
   "outputs": [
    {
     "name": "stdout",
     "output_type": "stream",
     "text": [
      "Using all data (9th, 10th & 11th grades) to predict 12th grade PR\n",
      "Train R^2:  0.97317486157135\n",
      "Train RMSE: 0.2479557529141452\n",
      "Test R^2:  0.6768911795485364\n",
      "Test RMSE: 0.19304368751638476\n",
      "Skew: -0.39397950058691766\n",
      "mean :  -0.012928526553186154\n",
      "var  :  0.037098718491087174\n",
      "skew :  -0.39397950058691766\n",
      "kurt :  -0.1996099350191809\n"
     ]
    },
    {
     "data": {
      "image/png": "[encoded data removed]",
      "text/plain": [
       "<Figure size 432x288 with 1 Axes>"
      ]
     },
     "metadata": {
      "needs_background": "light"
     },
     "output_type": "display_data"
    }
   ],
   "source": [
    "Men5000 = pd.read_csv(\"PV_Women_Results.csv\")\n",
    "y = Men5000['Sr_PR']\n",
    "X = Men5000\n",
    "del X['Sr_PR']\n",
    "del X['ID']\n",
    "del X['Name']\n",
    "del X['School_ID']\n",
    "del X['School']\n",
    "del X['Division']\n",
    "del X['Grad_Yr']\n",
    "del X['Unnamed: 0']\n",
    "\n",
    "X_train,X_test, y_train, y_test = train_test_split(X, y, test_size=0.15)\n",
    "\n",
    "# Create an empty model\n",
    "lr = LinearRegression()\n",
    "\n",
    "# Fit the model to the full dataset\n",
    "lr.fit(X_train, y_train)\n",
    "\n",
    "# Print out the R^2 for the model against the full dataset\n",
    "lr.score(X_train,y_train)\n",
    "\n",
    "y_pred = lr.predict(X_test)\n",
    "\n",
    "plt.scatter(y_pred,y_test,alpha=0.5);\n",
    "plt.ylabel('y_test (seconds)');\n",
    "plt.xlabel('y_predicted (seconds)');\n",
    "\n",
    "plt.plot([max(y_pred),min(y_pred)],[max(y_pred),min(y_pred)],color='r')\n",
    "#plt.plot([240,470],[240,470],color='r')\n",
    "\n",
    "#plt.savefig('test_vs_pred.png');\n",
    "\n",
    "print('Using all data (9th, 10th & 11th grades) to predict 12th grade PR')\n",
    "print('Train R^2: ',lr.score(X_train, y_train))\n",
    "print('Train RMSE:', \n",
    "      sqrt(mean_squared_error(y_train, lr.predict(X_train))))\n",
    "print('Test R^2: ', lr.score(X_test, y_test))\n",
    "print('Test RMSE:', \n",
    "        sqrt(mean_squared_error(y_test, lr.predict(X_test))))\n",
    "\n",
    "data = y_test-lr.predict(X_test)\n",
    "print('Skew:',skew(data))\n",
    "print(\"mean : \", np.mean(data))\n",
    "print(\"var  : \", np.var(data))\n",
    "print(\"skew : \",skew(data))\n",
    "print(\"kurt : \",kurtosis(data))"
   ]
  },
  {
   "cell_type": "code",
   "execution_count": 55,
   "metadata": {},
   "outputs": [
    {
     "name": "stdout",
     "output_type": "stream",
     "text": [
      "Using all data (9th, 10th & 11th grades) to predict 12th grade PR\n",
      "Train R^2:  0.9872652961351104\n",
      "Train RMSE: 0.20393896047208893\n",
      "Test R^2:  0.8607949520115863\n",
      "Test RMSE: 0.16128726150033582\n",
      "Skew: 0.11621254044316683\n",
      "mean :  -0.019477078531257498\n",
      "var  :  0.02563422413416494\n",
      "skew :  0.11621254044316683\n",
      "kurt :  0.08234472062041887\n"
     ]
    },
    {
     "data": {
      "image/png": "[encoded data removed]",
      "text/plain": [
       "<Figure size 432x288 with 1 Axes>"
      ]
     },
     "metadata": {
      "needs_background": "light"
     },
     "output_type": "display_data"
    }
   ],
   "source": [
    "MenPV = pd.read_csv(\"PV_Men_Results.csv\")\n",
    "y = MenPV['Sr_PR']\n",
    "X = MenPV\n",
    "del X['Sr_PR']\n",
    "del X['ID']\n",
    "del X['Name']\n",
    "del X['School_ID']\n",
    "del X['School']\n",
    "del X['Division']\n",
    "del X['Grad_Yr']\n",
    "del X['Unnamed: 0']\n",
    "\n",
    "X_train,X_test, y_train, y_test = train_test_split(X, y, test_size=0.15)\n",
    "\n",
    "# Create an empty model\n",
    "lr = LinearRegression()\n",
    "\n",
    "# Fit the model to the full dataset\n",
    "lr.fit(X_train, y_train)\n",
    "\n",
    "# Print out the R^2 for the model against the full dataset\n",
    "lr.score(X_train,y_train)\n",
    "\n",
    "y_pred = lr.predict(X_test)\n",
    "\n",
    "plt.scatter(y_pred,y_test,alpha=0.5);\n",
    "plt.ylabel('y_test (seconds)');\n",
    "plt.xlabel('y_predicted (seconds)');\n",
    "\n",
    "plt.plot([max(y_pred),min(y_pred)],[max(y_pred),min(y_pred)],color='r')\n",
    "#plt.plot([240,470],[240,470],color='r')\n",
    "\n",
    "#plt.savefig('test_vs_pred.png');\n",
    "\n",
    "print('Using all data (9th, 10th & 11th grades) to predict 12th grade PR')\n",
    "print('Train R^2: ',lr.score(X_train, y_train))\n",
    "print('Train RMSE:', \n",
    "      sqrt(mean_squared_error(y_train, lr.predict(X_train))))\n",
    "print('Test R^2: ', lr.score(X_test, y_test))\n",
    "print('Test RMSE:', \n",
    "        sqrt(mean_squared_error(y_test, lr.predict(X_test))))\n",
    "\n",
    "data = y_test-lr.predict(X_test)\n",
    "print('Skew:',skew(data))\n",
    "print(\"mean : \", np.mean(data))\n",
    "print(\"var  : \", np.var(data))\n",
    "print(\"skew : \",skew(data))\n",
    "print(\"kurt : \",kurtosis(data))"
   ]
  },
  {
   "cell_type": "code",
   "execution_count": 64,
   "metadata": {},
   "outputs": [
    {
     "name": "stdout",
     "output_type": "stream",
     "text": [
      "Using all data (9th, 10th & 11th grades) to predict 12th grade PR\n",
      "Train R^2:  0.9659565555178518\n",
      "Train RMSE: 0.46082634908924824\n",
      "Test R^2:  0.6498990543849741\n",
      "Test RMSE: 0.47580862562541376\n",
      "Skew: 0.5396379274525713\n",
      "mean :  0.03409978964420629\n",
      "var  :  0.225231052565766\n",
      "skew :  0.5396379274525713\n",
      "kurt :  0.34814338747920637\n"
     ]
    },
    {
     "data": {
      "image/png": "[encoded data removed]",
      "text/plain": [
       "<Figure size 432x288 with 1 Axes>"
      ]
     },
     "metadata": {
      "needs_background": "light"
     },
     "output_type": "display_data"
    }
   ],
   "source": [
    "WTJ = pd.read_csv(\"TJ_Women_Results.csv\")\n",
    "y = WTJ['Sr_PR']\n",
    "X = WTJ\n",
    "del X['Sr_PR']\n",
    "del X['ID']\n",
    "del X['Name']\n",
    "del X['School_ID']\n",
    "del X['School']\n",
    "del X['Division']\n",
    "del X['Grad_Yr']\n",
    "del X['Unnamed: 0']\n",
    "\n",
    "X_train,X_test, y_train, y_test = train_test_split(X, y, test_size=0.15)\n",
    "\n",
    "# Create an empty model\n",
    "lr = LinearRegression()\n",
    "\n",
    "# Fit the model to the full dataset\n",
    "lr.fit(X_train, y_train)\n",
    "\n",
    "# Print out the R^2 for the model against the full dataset\n",
    "lr.score(X_train,y_train)\n",
    "\n",
    "y_pred = lr.predict(X_test)\n",
    "\n",
    "plt.scatter(y_pred,y_test,alpha=0.5);\n",
    "plt.ylabel('y_test (seconds)');\n",
    "plt.xlabel('y_predicted (seconds)');\n",
    "\n",
    "plt.plot([max(y_pred),min(y_pred)],[max(y_pred),min(y_pred)],color='r')\n",
    "#plt.plot([240,470],[240,470],color='r')\n",
    "\n",
    "#plt.savefig('test_vs_pred.png');\n",
    "\n",
    "print('Using all data (9th, 10th & 11th grades) to predict 12th grade PR')\n",
    "print('Train R^2: ',lr.score(X_train, y_train))\n",
    "print('Train RMSE:', \n",
    "      sqrt(mean_squared_error(y_train, lr.predict(X_train))))\n",
    "print('Test R^2: ', lr.score(X_test, y_test))\n",
    "print('Test RMSE:', \n",
    "        sqrt(mean_squared_error(y_test, lr.predict(X_test))))\n",
    "\n",
    "data = y_test-lr.predict(X_test)\n",
    "print('Skew:',skew(data))\n",
    "print(\"mean : \", np.mean(data))\n",
    "print(\"var  : \", np.var(data))\n",
    "print(\"skew : \",skew(data))\n",
    "print(\"kurt : \",kurtosis(data))"
   ]
  },
  {
   "cell_type": "code",
   "execution_count": 70,
   "metadata": {},
   "outputs": [
    {
     "name": "stdout",
     "output_type": "stream",
     "text": [
      "Using all data (9th, 10th & 11th grades) to predict 12th grade PR\n",
      "Train R^2:  0.9864519553612366\n",
      "Train RMSE: 0.582149135592997\n",
      "Test R^2:  0.5700500601526626\n",
      "Test RMSE: 0.6477071422582599\n",
      "Skew: 0.5200071216819225\n",
      "mean :  -0.20520561120353836\n",
      "var  :  0.37741519926294387\n",
      "skew :  0.5200071216819225\n",
      "kurt :  1.2889696551633465\n"
     ]
    },
    {
     "data": {
      "image/png": "[encoded data removed]",
      "text/plain": [
       "<Figure size 432x288 with 1 Axes>"
      ]
     },
     "metadata": {
      "needs_background": "light"
     },
     "output_type": "display_data"
    }
   ],
   "source": [
    "MTJ = pd.read_csv(\"TJ_Men_Results.csv\")\n",
    "y = MTJ['Sr_PR']\n",
    "X = MTJ\n",
    "del X['Sr_PR']\n",
    "del X['ID']\n",
    "del X['Name']\n",
    "del X['School_ID']\n",
    "del X['School']\n",
    "del X['Division']\n",
    "del X['Grad_Yr']\n",
    "del X['Unnamed: 0']\n",
    "\n",
    "X_train,X_test, y_train, y_test = train_test_split(X, y, test_size=0.15)\n",
    "\n",
    "# Create an empty model\n",
    "lr = LinearRegression()\n",
    "\n",
    "# Fit the model to the full dataset\n",
    "lr.fit(X_train, y_train)\n",
    "\n",
    "# Print out the R^2 for the model against the full dataset\n",
    "lr.score(X_train,y_train)\n",
    "\n",
    "y_pred = lr.predict(X_test)\n",
    "\n",
    "plt.scatter(y_pred,y_test,alpha=0.5);\n",
    "plt.ylabel('y_test (seconds)');\n",
    "plt.xlabel('y_predicted (seconds)');\n",
    "\n",
    "plt.plot([max(y_pred),min(y_pred)],[max(y_pred),min(y_pred)],color='r')\n",
    "#plt.plot([240,470],[240,470],color='r')\n",
    "\n",
    "#plt.savefig('test_vs_pred.png');\n",
    "\n",
    "print('Using all data (9th, 10th & 11th grades) to predict 12th grade PR')\n",
    "print('Train R^2: ',lr.score(X_train, y_train))\n",
    "print('Train RMSE:', \n",
    "      sqrt(mean_squared_error(y_train, lr.predict(X_train))))\n",
    "print('Test R^2: ', lr.score(X_test, y_test))\n",
    "print('Test RMSE:', \n",
    "        sqrt(mean_squared_error(y_test, lr.predict(X_test))))\n",
    "\n",
    "data = y_test-lr.predict(X_test)\n",
    "print('Skew:',skew(data))\n",
    "print(\"mean : \", np.mean(data))\n",
    "print(\"var  : \", np.var(data))\n",
    "print(\"skew : \",skew(data))\n",
    "print(\"kurt : \",kurtosis(data))"
   ]
  },
  {
   "cell_type": "code",
   "execution_count": null,
   "metadata": {},
   "outputs": [],
   "source": []
  }
 ],
 "metadata": {
  "kernelspec": {
   "display_name": "Python 3",
   "language": "python",
   "name": "python3"
  },
  "language_info": {
   "codemirror_mode": {
    "name": "ipython",
    "version": 3
   },
   "file_extension": ".py",
   "mimetype": "text/x-python",
   "name": "python",
   "nbconvert_exporter": "python",
   "pygments_lexer": "ipython3",
   "version": "3.7.9"
  }
 },
 "nbformat": 4,
 "nbformat_minor": 4
}
